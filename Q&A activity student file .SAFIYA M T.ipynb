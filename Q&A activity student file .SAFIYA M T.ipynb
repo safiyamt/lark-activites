{
 "cells": [
  {
   "cell_type": "markdown",
   "metadata": {},
   "source": [
    "## 1. Complete the following code to find the area of an equilateral triangle. Output should be as displayed"
   ]
  },
  {
   "cell_type": "code",
   "execution_count": 1,
   "metadata": {},
   "outputs": [
    {
     "name": "stdout",
     "output_type": "stream",
     "text": [
      "Enter the side of the equilateral triangle: 5\n",
      "area=  10.825317547305483\n"
     ]
    }
   ],
   "source": [
    "import math\n",
    "side = float(input(\"Enter the side of the equilateral triangle: \"))\n",
    "area = ((math.sqrt(3))/4)*pow(side,2)\n",
    "print('area= ',area)"
   ]
  },
  {
   "cell_type": "markdown",
   "metadata": {},
   "source": [
    "## 2. Write a program to count the number of each characters in a string"
   ]
  },
  {
   "cell_type": "code",
   "execution_count": 2,
   "metadata": {},
   "outputs": [
    {
     "name": "stdout",
     "output_type": "stream",
     "text": [
      "no w in welcome is  1\n",
      "no e in welcome is  2\n",
      "no l in welcome is  1\n",
      "no o in welcome is  1\n",
      "no m in welcome is  1\n"
     ]
    }
   ],
   "source": [
    "string=\"welcome\"\n",
    "print('no w in welcome is ',string.count('w'))\n",
    "print('no e in welcome is ',string.count('e'))\n",
    "print('no l in welcome is ',string.count('l'))\n",
    "print('no o in welcome is ',string.count('o'))\n",
    "print('no m in welcome is ',string.count('m'))"
   ]
  },
  {
   "cell_type": "markdown",
   "metadata": {},
   "source": [
    "## 3. Write a program to find the area and perimeter of a rectangle using functions"
   ]
  },
  {
   "cell_type": "code",
   "execution_count": 3,
   "metadata": {},
   "outputs": [
    {
     "name": "stdout",
     "output_type": "stream",
     "text": [
      "enter length of the rectangle4\n",
      "enter bredth of rectangle5\n",
      "area of the rectangle is 20\n",
      "perimeter of the rectangle is  18\n"
     ]
    }
   ],
   "source": [
    "def rectangle(a,b):\n",
    "    area=a*b\n",
    "    print('area of the rectangle is',area)\n",
    "    perimeter=2*a+2*b\n",
    "    print('perimeter of the rectangle is ',perimeter)\n",
    "x=int(input (\"enter length of the rectangle\"))\n",
    "y=int(input('enter bredth of rectangle'))\n",
    "rectangle(x,y)\n"
   ]
  },
  {
   "cell_type": "markdown",
   "metadata": {},
   "source": [
    "## 4. Write a program to print the fibonacci series till a specified number"
   ]
  },
  {
   "cell_type": "code",
   "execution_count": 4,
   "metadata": {},
   "outputs": [
    {
     "name": "stdout",
     "output_type": "stream",
     "text": [
      "no of terms5\n",
      "0 \n",
      " 1\n",
      "1\n",
      "2\n",
      "3\n",
      "5\n",
      "8\n",
      "13\n"
     ]
    }
   ],
   "source": [
    "a=0\n",
    "b=1\n",
    "n=int(input('no of terms'))\n",
    "i=0\n",
    "print(a,'\\n',b)\n",
    "while(i<=n):\n",
    "    m=a+b\n",
    "    print(m)\n",
    "    a=b\n",
    "    b=m\n",
    "    i=i+1"
   ]
  },
  {
   "cell_type": "markdown",
   "metadata": {},
   "source": [
    "## 5. Complete the following code to find the minimum of 3 number using conditional statements. Output should be as displayed"
   ]
  },
  {
   "cell_type": "code",
   "execution_count": 5,
   "metadata": {},
   "outputs": [
    {
     "name": "stdout",
     "output_type": "stream",
     "text": [
      "Enter three numbers followed by  : -19 100 -9\n",
      "First number : -19\n",
      "Second number : 100\n",
      "Third number : -9\n",
      "-19  is smallest\n"
     ]
    }
   ],
   "source": [
    "a,b,c = input(\"Enter three numbers followed by  : \").split()\n",
    "\n",
    "print(\"First number :\",a)\n",
    "print(\"Second number :\",b)\n",
    "print(\"Third number :\",c)\n",
    "if(a==b)and(b==c):\n",
    "    print(\"Entered numbers are equal!!!\")\n",
    "elif(a<=b)and(a<=c):\n",
    "    print(a,\" is smallest\")\n",
    "elif (b<=a)and(b<=c):\n",
    "    print(b,\" is smallest\")\n",
    "else:\n",
    "    print(c,\" is smallest\")"
   ]
  },
  {
   "cell_type": "markdown",
   "metadata": {},
   "source": [
    "## 6. Write a program to print star pyramind. The number of rows should be taken as input from the user"
   ]
  },
  {
   "cell_type": "code",
   "execution_count": 6,
   "metadata": {},
   "outputs": [
    {
     "name": "stdout",
     "output_type": "stream",
     "text": [
      "no of rows5\n",
      "     \n",
      "    *\n",
      "   ***\n",
      "  *****\n",
      " *******\n",
      "*********\n"
     ]
    }
   ],
   "source": [
    "n=int(input('no of rows'))\n",
    "for i in range(0,n+1):\n",
    "    for j in range(0,n-i):\n",
    "        print(end=\" \")\n",
    "    for k in range(0,2*i-1):\n",
    "        print('*',end=\"\")\n",
    "    print()\n",
    "        \n"
   ]
  },
  {
   "cell_type": "markdown",
   "metadata": {},
   "source": [
    "## 7. Complete the following code to convert hour into seconds. Output should be as displayed"
   ]
  },
  {
   "cell_type": "code",
   "execution_count": 7,
   "metadata": {},
   "outputs": [
    {
     "name": "stdout",
     "output_type": "stream",
     "text": [
      "time in hour24\n",
      "24  Hour is equal to 86400  Seconds\n"
     ]
    }
   ],
   "source": [
    "\n",
    " def to_seconds(t):\n",
    "    sec=t*3600\n",
    "    \n",
    "    return sec\n",
    "time_in_hours =int(input('time in hour')) \n",
    "print(time_in_hours ,\" Hour is equal to\" ,to_seconds(time_in_hours) ,\" Seconds\")"
   ]
  },
  {
   "cell_type": "markdown",
   "metadata": {},
   "source": [
    "## 8. Write a program to print multiplication table as below"
   ]
  },
  {
   "cell_type": "code",
   "execution_count": 8,
   "metadata": {},
   "outputs": [
    {
     "name": "stdout",
     "output_type": "stream",
     "text": [
      "enter a number to find the multiplication table67\n",
      "1 * 67 = 67\n",
      "2 * 67 = 134\n",
      "3 * 67 = 201\n",
      "4 * 67 = 268\n",
      "5 * 67 = 335\n",
      "6 * 67 = 402\n",
      "7 * 67 = 469\n",
      "8 * 67 = 536\n",
      "9 * 67 = 603\n",
      "10 * 67 = 670\n"
     ]
    }
   ],
   "source": [
    "number=int(input('enter a number to find the multiplication table')) \n",
    "i=1\n",
    "for i in range(1,11):\n",
    "    mul=i*number\n",
    "    print(i,'*',number,'=',mul)"
   ]
  },
  {
   "cell_type": "markdown",
   "metadata": {},
   "source": [
    "## 9. Write a program to take your 5 favorite food as list and print each as 'I like Biriyani'"
   ]
  },
  {
   "cell_type": "code",
   "execution_count": 9,
   "metadata": {},
   "outputs": [
    {
     "name": "stdout",
     "output_type": "stream",
     "text": [
      "enter your favourite 5 food\n",
      "biriyani\n",
      "idly\n",
      "dosha\n",
      "fried rice\n",
      "chappathi\n",
      "i like  biriyani\n",
      "i like  idly\n",
      "i like  dosha\n",
      "i like  fried rice\n",
      "i like  chappathi\n"
     ]
    }
   ],
   "source": [
    "favourite_food=list()\n",
    "print('enter your favourite 5 food')\n",
    "for i in range(5):\n",
    "    food=str(input())\n",
    "    favourite_food.append(food)\n",
    "for j in range(5):\n",
    "    print('i like ',favourite_food[j])"
   ]
  },
  {
   "cell_type": "code",
   "execution_count": null,
   "metadata": {},
   "outputs": [],
   "source": []
  }
 ],
 "metadata": {
  "kernelspec": {
   "display_name": "Python 3 (ipykernel)",
   "language": "python",
   "name": "python3"
  },
  "language_info": {
   "codemirror_mode": {
    "name": "ipython",
    "version": 3
   },
   "file_extension": ".py",
   "mimetype": "text/x-python",
   "name": "python",
   "nbconvert_exporter": "python",
   "pygments_lexer": "ipython3",
   "version": "3.9.7"
  }
 },
 "nbformat": 4,
 "nbformat_minor": 4
}
