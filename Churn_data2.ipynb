{
 "cells": [
  {
   "cell_type": "code",
   "execution_count": null,
   "id": "555d59fc",
   "metadata": {},
   "outputs": [],
   "source": [
    "import pandas as pd\n",
    "import numpy as np\n",
    "import matplotlib.pyplot as plt\n",
    "import seaborn as sns"
   ]
  },
  {
   "cell_type": "code",
   "execution_count": null,
   "id": "eb29c769",
   "metadata": {
    "scrolled": true
   },
   "outputs": [],
   "source": [
    "df=pd.read_csv('Telco-Customer-Churn.xlsx - Telco-Customer-Churn.csv')\n",
    "df.head()"
   ]
  },
  {
   "cell_type": "markdown",
   "id": "db5aedf2",
   "metadata": {},
   "source": [
    "# compare churn with respect to gender"
   ]
  },
  {
   "cell_type": "code",
   "execution_count": null,
   "id": "19913004",
   "metadata": {},
   "outputs": [],
   "source": [
    "sns.countplot(x='gender',hue='Churn',data=df)"
   ]
  },
  {
   "cell_type": "markdown",
   "id": "4f474807",
   "metadata": {},
   "source": [
    "# Find out howmany female senior citizens there in the dataset"
   ]
  },
  {
   "cell_type": "code",
   "execution_count": null,
   "id": "61d1df17",
   "metadata": {},
   "outputs": [],
   "source": [
    "df2=df[(df['SeniorCitizen']==1) & (df['gender']=='Female')]\n",
    "df2['gender'].count()\n"
   ]
  },
  {
   "cell_type": "markdown",
   "id": "18a525c8",
   "metadata": {},
   "source": [
    "# Compare'tenture'with'Total charges"
   ]
  },
  {
   "cell_type": "code",
   "execution_count": null,
   "id": "a0379ac4",
   "metadata": {},
   "outputs": [],
   "source": [
    "df[['tenure','TotalCharges']].hist(bins=15,alpha=0.6)"
   ]
  },
  {
   "cell_type": "markdown",
   "id": "8a9a5fb9",
   "metadata": {},
   "source": [
    "# Find out which contract is preferred by the senior citizens"
   ]
  },
  {
   "cell_type": "code",
   "execution_count": null,
   "id": "c9b349b4",
   "metadata": {},
   "outputs": [],
   "source": [
    "df3=df[df.SeniorCitizen==1]\n",
    "df3"
   ]
  },
  {
   "cell_type": "code",
   "execution_count": null,
   "id": "a93a8554",
   "metadata": {},
   "outputs": [],
   "source": [
    "sns.countplot(df3['Contract'])"
   ]
  },
  {
   "cell_type": "markdown",
   "id": "264c92c7",
   "metadata": {},
   "source": [
    "# comment on your finds pn payment Method"
   ]
  },
  {
   "cell_type": "code",
   "execution_count": null,
   "id": "a9c5bb86",
   "metadata": {},
   "outputs": [],
   "source": [
    "sns.countplot(df['PaymentMethod'])"
   ]
  },
  {
   "cell_type": "code",
   "execution_count": null,
   "id": "237d72bd",
   "metadata": {},
   "outputs": [],
   "source": [
    "df['gender'].count()"
   ]
  },
  {
   "cell_type": "code",
   "execution_count": null,
   "id": "76309b69",
   "metadata": {},
   "outputs": [],
   "source": [
    "e=df[df.PaymentMethod =='Electronic check']\n",
    "e['gender'].count()"
   ]
  },
  {
   "cell_type": "code",
   "execution_count": null,
   "id": "5dac0e8c",
   "metadata": {},
   "outputs": [],
   "source": [
    "m=df[df.PaymentMethod=='Mailed check']\n",
    "m['gender'].count()"
   ]
  },
  {
   "cell_type": "code",
   "execution_count": null,
   "id": "bac06d31",
   "metadata": {},
   "outputs": [],
   "source": [
    "b=df[df.PaymentMethod=='Bank transfer (automatic)']\n",
    "b['gender'].count()"
   ]
  },
  {
   "cell_type": "code",
   "execution_count": null,
   "id": "cf15fd6d",
   "metadata": {},
   "outputs": [],
   "source": [
    "c=df[df.PaymentMethod=='Credit card (automatic)']\n",
    "c['gender'].count()"
   ]
  },
  {
   "cell_type": "code",
   "execution_count": null,
   "id": "45329ef7",
   "metadata": {},
   "outputs": [],
   "source": [
    "print (2365/7043 *100,'% are used electronic check payment method') \n",
    "print (1612/7043 *100,'% are used Maled check payment method')\n",
    "print (1544/7043 *100,'% are used bank transfer payment method')\n",
    "print (1522/7043 *100,'% are used credict card payment method')\n"
   ]
  },
  {
   "cell_type": "code",
   "execution_count": null,
   "id": "89a9e64d",
   "metadata": {},
   "outputs": [],
   "source": []
  }
 ],
 "metadata": {
  "kernelspec": {
   "display_name": "Python 3 (ipykernel)",
   "language": "python",
   "name": "python3"
  },
  "language_info": {
   "codemirror_mode": {
    "name": "ipython",
    "version": 3
   },
   "file_extension": ".py",
   "mimetype": "text/x-python",
   "name": "python",
   "nbconvert_exporter": "python",
   "pygments_lexer": "ipython3",
   "version": "3.9.7"
  }
 },
 "nbformat": 4,
 "nbformat_minor": 5
}
